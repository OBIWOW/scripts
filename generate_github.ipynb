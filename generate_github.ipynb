{
 "cells": [
  {
   "cell_type": "code",
   "execution_count": 48,
   "id": "fa133f5e-1e00-4018-8711-ed6ea056299e",
   "metadata": {},
   "outputs": [],
   "source": [
    "from obiwow.data_reader_parser import standardise_time_of_day_column, write_html_page\n",
    "from obiwow.data_reader_parser import (\n",
    "    parse_yaml, parse_csv_to_pandas, merge_submission_schedule,\n",
    "    add_start_end_time_to_schedule, annotate_networking_event, write_ical_files, write_schedule_json\n",
    ")\n",
    "from obiwow.tsv_to_html import generate_workshop_body, generate_schedule_table, generate_full_html_page"
   ]
  },
  {
   "cell_type": "code",
   "execution_count": 49,
   "id": "5570a7ec-d2d4-46f9-b585-765bbffc9ffb",
   "metadata": {},
   "outputs": [],
   "source": [
    "def import_all_config() -> dict:\n",
    "    \"\"\"\n",
    "    Import all configuration files.\n",
    "\n",
    "    Returns:\n",
    "        dict: A dictionary containing all configuration data.\n",
    "    \"\"\"\n",
    "    paths_config = parse_yaml('config/paths.yaml')\n",
    "    yearly_config = parse_yaml('config/yearly_config.yaml')\n",
    "    nettskjema_columns = parse_yaml('config/nettskjema_columns.yaml')\n",
    "    schedule_columns = parse_yaml('config/schedule_columns.yaml')\n",
    "    rooms_config = parse_yaml('config/rooms.yaml')\n",
    "\n",
    "    return {\n",
    "        'paths': paths_config,\n",
    "        'yearly': yearly_config,\n",
    "        'nettskjema_columns': nettskjema_columns,\n",
    "        'schedule_columns': schedule_columns,\n",
    "        'rooms': rooms_config\n",
    "    }"
   ]
  },
  {
   "cell_type": "code",
   "execution_count": 50,
   "id": "c6aa76b6-ddaf-43d1-abf6-b7b6d800e881",
   "metadata": {},
   "outputs": [],
   "source": [
    "config = import_all_config()"
   ]
  },
  {
   "cell_type": "code",
   "execution_count": 51,
   "id": "df44173e-81a1-4eab-a7ab-6552ab7a6098",
   "metadata": {},
   "outputs": [],
   "source": [
    "paths = config['paths']"
   ]
  },
  {
   "cell_type": "code",
   "execution_count": 52,
   "id": "2aeea805-bd05-4a8f-ba6a-915904cd6fe6",
   "metadata": {},
   "outputs": [],
   "source": [
    "config = import_all_config()\n",
    "\n",
    "registration_open = config['yearly'].get('registration_open', False)\n",
    "paths = config['paths']\n",
    "yearly = config['yearly']\n",
    "nettskjema_columns = config['nettskjema_columns']\n",
    "schedule_columns = config['schedule_columns']\n",
    "rooms = config['rooms']\n",
    "\n",
    "df_submissions = parse_csv_to_pandas(paths['input']['survey_results']['file_path'],\n",
    "                                         paths['input']['survey_results']['delimiter'])\n",
    "df_schedule = parse_csv_to_pandas(paths['input']['schedule']['file_path'],\n",
    "                                      paths['input']['schedule']['delimiter'])\n",
    "\n",
    "# Remove rows with cancelled workshops\n",
    "df_schedule = df_schedule[df_schedule[schedule_columns['status_column']] != 'cancelled']\n",
    "\n",
    "standardise_time_of_day_column(df_schedule, schedule_columns)\n",
    "df_schedule = add_start_end_time_to_schedule(df_schedule, schedule_columns)\n",
    "df_schedule = annotate_networking_event(df_schedule, schedule_columns)\n",
    "\n",
    "df_merge_submission_schedule = merge_submission_schedule(df_submissions, df_schedule, nettskjema_columns,\n",
    "                                                         schedule_columns)"
   ]
  },
  {
   "cell_type": "code",
   "execution_count": 53,
   "id": "5cd14a0e-a2c0-40cb-beca-e6be21b02268",
   "metadata": {},
   "outputs": [],
   "source": [
    "import unicodedata\n",
    "import re\n",
    "import os\n",
    "import pandas as pd\n",
    "\n",
    "def slugify(value, allow_unicode=False):\n",
    "    \"\"\"\n",
    "    Taken from https://github.com/django/django/blob/master/django/utils/text.py\n",
    "    Convert to ASCII if 'allow_unicode' is False. Convert spaces or repeated\n",
    "    dashes to single dashes. Remove characters that aren't alphanumerics,\n",
    "    underscores, or hyphens. Convert to lowercase. Also strip leading and\n",
    "    trailing whitespace, dashes, and underscores.\n",
    "    \"\"\"\n",
    "    value = str(value)\n",
    "    if allow_unicode:\n",
    "        value = unicodedata.normalize('NFKC', value)\n",
    "    else:\n",
    "        value = unicodedata.normalize('NFKD', value).encode('ascii', 'ignore').decode('ascii')\n",
    "    value = re.sub(r'[^\\w\\s-]', '', value.lower())\n",
    "    return re.sub(r'[-\\s]+', '-', value).strip('-_')\n"
   ]
  },
  {
   "cell_type": "code",
   "execution_count": 99,
   "id": "74ab0a62-3479-48ba-b58b-ef98af7eedb1",
   "metadata": {},
   "outputs": [
    {
     "name": "stdout",
     "output_type": "stream",
     "text": [
      "2\n"
     ]
    }
   ],
   "source": [
    "\n",
    "\n",
    "import datetime\n",
    "import calendar\n",
    "#datetime.datetime.strptime('24052010', \"%d%m%Y\").date()\n",
    "my_date = datetime.datetime.strptime(row[\"Date\"], \"%d.%m.%y\")\n",
    "calendar.day_name[my_date.weekday()]  #'Wednesday'\n",
    "print(my_date.weekday())\n"
   ]
  },
  {
   "cell_type": "code",
   "execution_count": 104,
   "id": "daa7fb6a-d1c8-4af1-a049-0fe496fc3474",
   "metadata": {},
   "outputs": [],
   "source": [
    "for index, row in df_merge_submission_schedule.iterrows():\n",
    "    title = row['Title of the workshop']\n",
    "    my_date = datetime.datetime.strptime(row[\"Date\"], \"%d.%m.%y\")\n",
    "    weekday = str(my_date.strftime('%d'))\n",
    "    day_of_week = calendar.day_name[my_date.weekday()]  #'Wednesday'\n",
    "    description = row['A short description of your workshop (max 250 words)']\n",
    "    if not pd.isna(row['Instructor 2']):\n",
    "        instructors = \", \".join([row['Instructor 1'], row['Instructor 2']])\n",
    "    else:\n",
    "        instructors = row['Instructor 1']\n",
    "    if not pd.isna(row['Title of the workshop']):\n",
    "        slug = slugify(title)\n",
    "        path = \"/\".join([\"../OBiWoW-2024\", \"-\".join([weekday, day_of_week]), slug])\n",
    "        if not os.path.exists(path): \n",
    "            os.makedirs(path)\n",
    "        text = \"\\n\".join([\"# %s\" % title, \n",
    "                         description, \n",
    "                         \"## Instructors\",\n",
    "                         instructors,\n",
    "                         \"## Live Troubleshooting Session\", \n",
    "                         \"## Software Requirements\"])\n",
    "        with open(\"/\".join([path, \"README.md\"]), \"w\") as text_file:\n",
    "            text_file.write(text)"
   ]
  },
  {
   "cell_type": "code",
   "execution_count": 92,
   "id": "ddcdbc07-ee52-419e-9ff9-1b0eb227c843",
   "metadata": {},
   "outputs": [
    {
     "data": {
      "text/plain": [
       "Index(['$submission_id', '$created', 'Your name (first name and surname)?',\n",
       "       'What is your e-mail address?', 'Your affiliation',\n",
       "       'Title of the workshop',\n",
       "       'Name and affiliation of additional instructors (if none, fill in &#39;none&#39;)',\n",
       "       'A short description of your workshop (max 250 words)',\n",
       "       'A brief statement on the learning outcomes from the workshop, to be used on the website for the event.',\n",
       "       'What are the prerequisites for attending the workshop?',\n",
       "       'What is the target audience for your workshop?',\n",
       "       'What is the maximum number of attendees you wish to accommodate for?',\n",
       "       'Please indicate what you expect your audience need to bring to the workshop',\n",
       "       'Length of the workshop (e.g., 2 hours, half a day or a whole day)',\n",
       "       'Any other supplies or support required',\n",
       "       'Anything else you believe is pertinent to successfully carrying out the session',\n",
       "       'Which of the following time slots would fit for you to organise your workshop.Monday, December 9, 09-12',\n",
       "       'Which of the following time slots would fit for you to organise your workshop.Monday, December 9, 13-16',\n",
       "       'Which of the following time slots would fit for you to organise your workshop.Tuesday, December 10, 09-12',\n",
       "       'Which of the following time slots would fit for you to organise your workshop.Tuesday, December 10, 13-16',\n",
       "       'Which of the following time slots would fit for you to organise your workshop.Wednesday, December 11, 09-12',\n",
       "       'Which of the following time slots would fit for you to organise your workshop.Wednesday, December 11, 13-16',\n",
       "       'Which of the following time slots would fit for you to organise your workshop.Thursday, December 12, 09-12',\n",
       "       'Which of the following time slots would fit for you to organise your workshop.Thursday, December 12, 13-16',\n",
       "       'Which of the following time slots would fit for you to organise your workshop.Friday, December 13, 09-12',\n",
       "       'Which of the following time slots would fit for you to organise your workshop.Friday, December 13, 13-16',\n",
       "       'Non-overlapping workshops', '$answer_time_ms', 'Number',\n",
       "       'Nettskjema ID', 'Workshop name', 'Instructor 1', 'Instructor 2',\n",
       "       'Email', 'Date', 'Day', 'Time', 'Length', 'Room in Ole Johan Dalshus',\n",
       "       'Max capacity', 'Instructor: confirm time', 'Registrations',\n",
       "       'Participant count', 'Mail about evaluation from sent', 'Start time',\n",
       "       'End time', 'Networking event'],\n",
       "      dtype='object')"
      ]
     },
     "execution_count": 92,
     "metadata": {},
     "output_type": "execute_result"
    }
   ],
   "source": [
    "df_merge_submission_schedule.columns"
   ]
  },
  {
   "cell_type": "code",
   "execution_count": 95,
   "id": "100a8117-2cd2-4359-a7ff-2826e162f745",
   "metadata": {},
   "outputs": [
    {
     "data": {
      "text/plain": [
       "0                                     NaN\n",
       "1                                     NaN\n",
       "2                         Ahmad Ali-Ahmad\n",
       "3                                     NaN\n",
       "4                     Ieva Rauluseviciute\n",
       "5                                     NaN\n",
       "6                             Jon Lærdahl\n",
       "7         Einar Birkeland, Trine B Rounge\n",
       "8                           Pável Vazquez\n",
       "9                  Alessandro Formaggioni\n",
       "10                                    NaN\n",
       "11                                    NaN\n",
       "12                      Theophilus Asenso\n",
       "13                                    NaN\n",
       "14    Ieva Rauluseviciute, Ladislav Hovan\n",
       "15                                    NaN\n",
       "Name: Instructor 2, dtype: object"
      ]
     },
     "execution_count": 95,
     "metadata": {},
     "output_type": "execute_result"
    }
   ],
   "source": [
    "df_merge_submission_schedule[\"Instructor 2\"]"
   ]
  },
  {
   "cell_type": "code",
   "execution_count": null,
   "id": "a3619c90-380a-450f-9170-f51a763f2af1",
   "metadata": {},
   "outputs": [],
   "source": []
  }
 ],
 "metadata": {
  "kernelspec": {
   "display_name": "Python 3 (ipykernel)",
   "language": "python",
   "name": "python3"
  },
  "language_info": {
   "codemirror_mode": {
    "name": "ipython",
    "version": 3
   },
   "file_extension": ".py",
   "mimetype": "text/x-python",
   "name": "python",
   "nbconvert_exporter": "python",
   "pygments_lexer": "ipython3",
   "version": "3.13.0"
  }
 },
 "nbformat": 4,
 "nbformat_minor": 5
}
